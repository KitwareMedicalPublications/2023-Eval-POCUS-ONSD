{
 "cells": [
  {
   "cell_type": "code",
   "execution_count": 2,
   "id": "7f47d164-8b31-43be-86d6-34f6ecae1009",
   "metadata": {},
   "outputs": [],
   "source": [
    "import pandas as pd\n",
    "import numpy as np\n",
    "import scipy.stats"
   ]
  },
  {
   "cell_type": "code",
   "execution_count": 3,
   "id": "eeb9464d-8f39-44a4-bb77-9f1706700a6b",
   "metadata": {},
   "outputs": [
    {
     "name": "stdout",
     "output_type": "stream",
     "text": [
      "    session  user_id       program           role formal_us_training  \\\n",
      "0         1        8           NaN            APP                  Y   \n",
      "1         1        7     Neuro ICU            APP                  N   \n",
      "2         1        4     Neuro ICU             MD                  N   \n",
      "3         1        5          SICU          Staff                  Y   \n",
      "4         1        6           NaN            APP                  N   \n",
      "5         1        9     Neuro ICU            APP                  Y   \n",
      "6         2       19  Neurosurgery  PGYY Resident                  N   \n",
      "7         2       18           NaN            NaN                NaN   \n",
      "8         2       16           NaN            NaN                NaN   \n",
      "9         2       17          STCU            APP                  N   \n",
      "10        2       14           NaN            NaN                NaN   \n",
      "11        2       15          SURG            NaN                  Y   \n",
      "12        2       13           NaN        Faculty                  Y   \n",
      "13        2       12           NaN            NaN                  Y   \n",
      "14        2       11          SICU            APP                  Y   \n",
      "\n",
      "    previous_onsd_count  us_self_adept  image_quality-butterfly  \\\n",
      "0                  20.0         novice                      3.0   \n",
      "1                   1.0        average                      3.0   \n",
      "2                  20.0        average                      4.0   \n",
      "3                   0.0  above average                      NaN   \n",
      "4                   0.0         novice                      3.0   \n",
      "5                  50.0  above average                      2.0   \n",
      "6                   0.0         novice                      3.0   \n",
      "7                   NaN            NaN                      2.0   \n",
      "8                   NaN            NaN                      6.0   \n",
      "9                   0.0         novice                      2.0   \n",
      "10                  NaN            NaN                      2.0   \n",
      "11                  0.0        average                      2.0   \n",
      "12                  0.0        average                      5.0   \n",
      "13                  0.0      above avg                      3.0   \n",
      "14                  0.0      above avg                      6.0   \n",
      "\n",
      "    image_quality-clarius  image_quality-sonivate  ...  prior_exp-sonoque  \\\n",
      "0                       2                     4.0  ...                NaN   \n",
      "1                       1                     6.0  ...                NaN   \n",
      "2                       1                     6.0  ...                NaN   \n",
      "3                       2                     NaN  ...                NaN   \n",
      "4                       1                     6.0  ...                NaN   \n",
      "5                       3                     6.0  ...                NaN   \n",
      "6                       1                     4.0  ...                0.0   \n",
      "7                       5                     6.0  ...                NaN   \n",
      "8                       3                     5.0  ...                NaN   \n",
      "9                       4                     6.0  ...                NaN   \n",
      "10                      3                     4.0  ...                NaN   \n",
      "11                      1                     6.0  ...                NaN   \n",
      "12                      3                     4.0  ...                NaN   \n",
      "13                      2                     4.0  ...                NaN   \n",
      "14                      3                     4.0  ...                NaN   \n",
      "\n",
      "    prior_exp-interson  prior_exp-mindray  prior_onsd-butterfly  \\\n",
      "0                  NaN              100.0                   4.0   \n",
      "1                  NaN               20.0                   NaN   \n",
      "2                  NaN                NaN                   NaN   \n",
      "3                  NaN                NaN                   NaN   \n",
      "4                  NaN               30.0                   NaN   \n",
      "5                  NaN               50.0                   NaN   \n",
      "6                  0.0               10.0                   0.0   \n",
      "7                  NaN                NaN                   NaN   \n",
      "8                  NaN               12.0                   NaN   \n",
      "9                  NaN                NaN                   NaN   \n",
      "10                 NaN              300.0                   NaN   \n",
      "11                 NaN               20.0                   NaN   \n",
      "12                 NaN               12.0                   NaN   \n",
      "13                 NaN              750.0                   NaN   \n",
      "14                 NaN                NaN                   NaN   \n",
      "\n",
      "    prior_onsd-clarius  prior_onsd-sonivate  prior_onsd-sonoque  \\\n",
      "0                  NaN                  NaN                 NaN   \n",
      "1                  NaN                  NaN                 NaN   \n",
      "2                  NaN                  NaN                 NaN   \n",
      "3                  NaN                  NaN                 NaN   \n",
      "4                  NaN                  NaN                 NaN   \n",
      "5                  NaN                  NaN                 NaN   \n",
      "6                  0.0                  0.0                 0.0   \n",
      "7                  NaN                  NaN                 NaN   \n",
      "8                  NaN                  NaN                 NaN   \n",
      "9                  NaN                  NaN                 NaN   \n",
      "10                 NaN                  NaN                 NaN   \n",
      "11                 NaN                  NaN                 NaN   \n",
      "12                 NaN                  NaN                 NaN   \n",
      "13                 NaN                  NaN                 NaN   \n",
      "14                 NaN                  NaN                 NaN   \n",
      "\n",
      "    prior_onsd-interson  prior_onsd-mindray  \\\n",
      "0                   NaN                20.0   \n",
      "1                   NaN                 1.0   \n",
      "2                   NaN                 NaN   \n",
      "3                   NaN                 NaN   \n",
      "4                   NaN                 NaN   \n",
      "5                   NaN                50.0   \n",
      "6                   0.0                 0.0   \n",
      "7                   NaN                 NaN   \n",
      "8                   NaN                 2.0   \n",
      "9                   NaN                 NaN   \n",
      "10                  NaN                 NaN   \n",
      "11                  NaN                 NaN   \n",
      "12                  NaN                 NaN   \n",
      "13                  NaN                 NaN   \n",
      "14                  NaN                 NaN   \n",
      "\n",
      "                                             comments  \n",
      "0   butterfly-heavy probe;sonoque-smaller probe;mi...  \n",
      "1                                                 NaN  \n",
      "2                                                 NaN  \n",
      "3                                                 NaN  \n",
      "4                                                 NaN  \n",
      "5                                                 NaN  \n",
      "6                                                 NaN  \n",
      "7                                                 NaN  \n",
      "8   sonoque image was good and the measuring was n...  \n",
      "9                                                 NaN  \n",
      "10  accustome to, but don't like the bulk and prob...  \n",
      "11                                                NaN  \n",
      "12                                                NaN  \n",
      "13  butterfly- ease of use because of previous use...  \n",
      "14  interface on touch screens really nice.  clari...  \n",
      "\n",
      "[15 rows x 50 columns]\n"
     ]
    }
   ],
   "source": [
    "survey_df = pd.read_csv('../data/duke_study-202112/survey-202112 - Data.csv')\n",
    "print(survey_df)"
   ]
  },
  {
   "cell_type": "code",
   "execution_count": 4,
   "id": "ecd07cae-4af8-4be4-8193-d6806e5b30cb",
   "metadata": {},
   "outputs": [
    {
     "name": "stdout",
     "output_type": "stream",
     "text": [
      "['image_quality', 'acquisition_ease', 'software', 'tactile', 'overall_onsd']\n",
      "    user_id      probe  image_quality  acquisition_ease  software  tactile  \\\n",
      "0         8  butterfly            3.0               2.0       4.0      4.0   \n",
      "1         7  butterfly            3.0               4.0       1.0      2.0   \n",
      "2         4  butterfly            4.0               5.0       1.0      4.0   \n",
      "3         5  butterfly            NaN               NaN       NaN      NaN   \n",
      "4         6  butterfly            3.0               5.0       2.0      3.0   \n",
      "..      ...        ...            ...               ...       ...      ...   \n",
      "85       14    mindray            1.0               2.0       3.0      1.0   \n",
      "86       15    mindray            5.0               4.0       5.0      2.0   \n",
      "87       13    mindray            1.0               1.0       3.0      3.0   \n",
      "88       12    mindray            1.0               5.0       5.0      5.0   \n",
      "89       11    mindray            1.0               3.0       5.0      4.0   \n",
      "\n",
      "    overall_onsd  \n",
      "0            NaN  \n",
      "1            3.0  \n",
      "2            3.0  \n",
      "3            6.0  \n",
      "4            3.0  \n",
      "..           ...  \n",
      "85           2.0  \n",
      "86           4.0  \n",
      "87           3.0  \n",
      "88           4.0  \n",
      "89           5.0  \n",
      "\n",
      "[90 rows x 7 columns]\n"
     ]
    }
   ],
   "source": [
    "property_types = ['image_quality', 'acquisition_ease', 'software', 'tactile', 'overall_onsd']\n",
    "#[x.replace('-butterfly', '') for x in survey_df.columns if x.find('-butterfly') > 0]\n",
    "print(property_types)\n",
    "#print(value_rows)\n",
    "def probe_melt(df):\n",
    "    ans = None\n",
    "    for property_type in property_types:\n",
    "        value_vars = [x for x in df.columns if x.find(property_type) >= 0]\n",
    "        #print(value_vars)\n",
    "        id_vars = ['user_id']\n",
    "        tmp = df.melt(id_vars=id_vars, value_vars=value_vars, var_name='probe', value_name=property_type)\n",
    "        #print(tmp)\n",
    "        tmp['probe'] = [x.replace(property_type +'-', '') for x in tmp['probe']]\n",
    "        ans = tmp if ans is None else ans.merge(tmp, on=['user_id', 'probe'])\n",
    "    return ans\n",
    "survey_melt_df = probe_melt(survey_df)\n",
    "print(survey_melt_df)"
   ]
  },
  {
   "cell_type": "code",
   "execution_count": 5,
   "id": "97875e37-c115-4129-929f-34e4c539a44b",
   "metadata": {},
   "outputs": [],
   "source": [
    "survey_melt_df.groupby(['probe']).mean().to_csv('../data/phantom_study-202201/analysis/mean physician ranks.csv')\n",
    "survey_melt_df.groupby(['probe']).median().to_csv('../data/phantom_study-202201/analysis/median physician ranks.csv')\n",
    "survey_melt_df.groupby(['probe']).std().to_csv('../data/phantom_study-202201/analysis/std physician ranks.csv')\n"
   ]
  },
  {
   "cell_type": "code",
   "execution_count": 18,
   "id": "256b159a-b1a8-421e-97f8-58e09f49a287",
   "metadata": {},
   "outputs": [],
   "source": [
    "df2 = survey_melt_df.melt(id_vars=['user_id', 'probe'], var_name='category')"
   ]
  },
  {
   "cell_type": "code",
   "execution_count": 19,
   "id": "4340a28e-7bab-4849-892c-cd5e41795d31",
   "metadata": {},
   "outputs": [
    {
     "name": "stdout",
     "output_type": "stream",
     "text": [
      "image_quality WilcoxonResult(statistic=26.5, pvalue=0.10400390625)\n",
      "acquisition_ease WilcoxonResult(statistic=39.0, pvalue=0.645479680256652)\n",
      "software WilcoxonResult(statistic=16.0, pvalue=0.035805812882623876)\n",
      "tactile WilcoxonResult(statistic=45.0, pvalue=0.6697998046875)\n",
      "overall_onsd WilcoxonResult(statistic=52.0, pvalue=1.0)\n"
     ]
    },
    {
     "name": "stderr",
     "output_type": "stream",
     "text": [
      "C:\\src\\MTECTraumaticBrainInjury\\UltrasoundQuality\\python\\venv-analysis\\lib\\site-packages\\scipy\\stats\\_morestats.py:3337: UserWarning: Exact p-value calculation does not work if there are zeros. Switching to normal approximation.\n",
      "  warnings.warn(\"Exact p-value calculation does not work if there are \"\n"
     ]
    }
   ],
   "source": [
    "from scipy.stats import ranksums\n",
    "from scipy.stats import wilcoxon\n",
    "for c in ['image_quality', 'acquisition_ease', 'software', 'tactile', 'overall_onsd']:\n",
    "    print(c, wilcoxon(survey_melt_df[survey_melt_df.probe == 'clarius'][c], survey_melt_df[survey_melt_df.probe == 'butterfly'][c], nan_policy='omit'))"
   ]
  },
  {
   "cell_type": "code",
   "execution_count": 20,
   "id": "0e6b0c48-8d03-4d09-9739-4b59191f79aa",
   "metadata": {},
   "outputs": [
    {
     "data": {
      "text/plain": [
       "array([ 0.,  5.,  1., nan,  2.,  4., -1.,  3., -1.,  3.,  5.,  1., -1.,\n",
       "       -1.,  1.])"
      ]
     },
     "execution_count": 20,
     "metadata": {},
     "output_type": "execute_result"
    }
   ],
   "source": [
    "c = 'software'\n",
    "x = survey_melt_df[survey_melt_df.probe == 'clarius'][c]\n",
    "y = survey_melt_df[survey_melt_df.probe == 'butterfly'][c]\n",
    "np.array(x) - np.array(y)"
   ]
  },
  {
   "cell_type": "code",
   "execution_count": 21,
   "id": "0477a748-f419-4efe-ad4c-f15db84287eb",
   "metadata": {},
   "outputs": [
    {
     "data": {
      "text/plain": [
       "0     3.0\n",
       "1     3.0\n",
       "2     4.0\n",
       "3     NaN\n",
       "4     3.0\n",
       "5     2.0\n",
       "6     3.0\n",
       "7     2.0\n",
       "8     6.0\n",
       "9     2.0\n",
       "10    2.0\n",
       "11    2.0\n",
       "12    5.0\n",
       "13    3.0\n",
       "14    6.0\n",
       "Name: image_quality, dtype: float64"
      ]
     },
     "execution_count": 21,
     "metadata": {},
     "output_type": "execute_result"
    }
   ],
   "source": [
    "survey_melt_df[survey_melt_df.probe == 'butterfly']['image_quality']"
   ]
  },
  {
   "cell_type": "code",
   "execution_count": 22,
   "id": "22819fc1-7a57-43c3-a216-70a2a740b9b0",
   "metadata": {},
   "outputs": [
    {
     "name": "stdout",
     "output_type": "stream",
     "text": [
      "{'mindray': 'Zonare Z.one', 'butterfly': 'Butterfly iQ', 'clarius': 'Clarius L7HD', 'sonivate': 'Sonivate SonicEye', 'interson': 'Interson SPL01', 'sonoque': 'Sonoque L5C'}\n"
     ]
    },
    {
     "data": {
      "image/png": "[encoded data removed]",
      "text/plain": [
       "<Figure size 800x1400 with 1 Axes>"
      ]
     },
     "metadata": {},
     "output_type": "display_data"
    }
   ],
   "source": [
    "from usqc.manuscript import PROBE_PRETTY, PROBE_ORDERED\n",
    "import matplotlib.pyplot as plt\n",
    "import seaborn as sb\n",
    "\n",
    "prop_pretty = { 'image_quality' : 'Image Quality', 'acquisition_ease' : 'Acquistion Ease', 'software' : 'Software', 'tactile' : 'Tactile Feel', 'overall_onsd' : 'Overall Utility for ONSD' }\n",
    "probe_pretty = { 'mindray' : 'Zonare Z.one', 'butterfly' : 'Butterfly iQ', 'clarius' : 'Clarius L7HD', 'sonivate' : 'Sonivate SonicEye', 'interson' : 'Interson SPL01', 'sonoque' : 'Sonoque L5C' }\n",
    "\n",
    "print(probe_pretty)\n",
    "\n",
    "df2.replace(prop_pretty, inplace=True)\n",
    "df2.replace(probe_pretty, inplace=True)\n",
    "df2.rename({'probe' : 'Probe', 'value' : 'Rank', 'category' : 'Category'}, axis=1, inplace=True)\n",
    "df2.Probe = pd.Categorical(df2.Probe, categories=PROBE_ORDERED + ['Zonare Z.one'], ordered=True)\n",
    "fig, ax = plt.subplots(1,1,figsize=(8,14))\n",
    "sb.boxplot(df2, x='Rank', y='Category', hue='Probe', ax=ax)\n",
    "plt.legend(bbox_to_anchor=(1.02, 1), loc='upper left', borderaxespad=0)\n",
    "plt.savefig('../data/phantom_study-202201/analysis/fig-physician-preference.pdf', bbox_inches='tight')"
   ]
  },
  {
   "cell_type": "code",
   "execution_count": 4,
   "id": "7c71e7ac-53b9-4c3d-a02c-7bcc8b0eaa75",
   "metadata": {},
   "outputs": [
    {
     "name": "stdout",
     "output_type": "stream",
     "text": [
      "image_quality: F_onewayResult(statistic=10.14308300395257, pvalue=1.6505998697843716e-07)\n",
      "acquisition_ease: F_onewayResult(statistic=3.068416735028712, pvalue=0.014442023741309712)\n",
      "software: F_onewayResult(statistic=5.514864317537466, pvalue=0.00021232590753149995)\n",
      "tactile: F_onewayResult(statistic=1.596246648793566, pvalue=0.1710006655354242)\n",
      "overall_onsd: F_onewayResult(statistic=5.426815642458101, pvalue=0.00027208656125900157)\n"
     ]
    }
   ],
   "source": [
    "def anova_by_property_type(property_type):\n",
    "    x = [property_type + '-' + x for x in ['butterfly', 'clarius', 'mindray', 'interson', 'sonoque', 'sonivate']]\n",
    "    tmp_df = survey_df[x].dropna()\n",
    "    return scipy.stats.f_oneway(*[tmp_df[x] for x in tmp_df.columns])\n",
    "\n",
    "for p in property_types:\n",
    "    print(p + ':', anova_by_property_type(p))"
   ]
  },
  {
   "cell_type": "code",
   "execution_count": null,
   "id": "48798e23-14a8-498f-9734-eb7baa0eb76c",
   "metadata": {},
   "outputs": [],
   "source": []
  }
 ],
 "metadata": {
  "kernelspec": {
   "display_name": "Python 3 (ipykernel)",
   "language": "python",
   "name": "python3"
  },
  "language_info": {
   "codemirror_mode": {
    "name": "ipython",
    "version": 3
   },
   "file_extension": ".py",
   "mimetype": "text/x-python",
   "name": "python",
   "nbconvert_exporter": "python",
   "pygments_lexer": "ipython3",
   "version": "3.10.4"
  }
 },
 "nbformat": 4,
 "nbformat_minor": 5
}
